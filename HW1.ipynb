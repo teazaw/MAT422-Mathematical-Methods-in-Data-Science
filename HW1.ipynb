{
  "nbformat": 4,
  "nbformat_minor": 0,
  "metadata": {
    "colab": {
      "provenance": [],
      "authorship_tag": "ABX9TyOswpFQ+Gb7bPrwmHxRBmAw",
      "include_colab_link": true
    },
    "kernelspec": {
      "name": "python3",
      "display_name": "Python 3"
    },
    "language_info": {
      "name": "python"
    }
  },
  "cells": [
    {
      "cell_type": "markdown",
      "metadata": {
        "id": "view-in-github",
        "colab_type": "text"
      },
      "source": [
        "<a href=\"https://colab.research.google.com/github/teazaw/MAT422-Mathematical-Methods-in-Data-Science/blob/main/HW1.ipynb\" target=\"_parent\"><img src=\"https://colab.research.google.com/assets/colab-badge.svg\" alt=\"Open In Colab\"/></a>"
      ]
    },
    {
      "cell_type": "markdown",
      "source": [
        "# **1.2.1 Linear Spaces**\n",
        "\n",
        "**Linear spaces** are sets where any linear combination of vectors remains within the set.\n",
        "\n",
        "Therefore, we can assert that a given set is a linear space if its elements can be multiplied by scalars and added together, and that the results of these algebraic operations are elements that still belong to the set.\n",
        "\n",
        "The **span** of a set of vectors {V1,V2,..., Vn} in a vector space V is the set of all vectors that can be expressed as linear combinations of the given vectors.\n",
        "\n",
        "A **linear subspace** of V is a subset U ⊆ V that is closed under vector addition and scalar multiplication.\n",
        "\n",
        "\n",
        "*   0 is always a linear subspace.\n",
        "*   A span of a set of vectors is a linear subspace.\n",
        "\n"
      ],
      "metadata": {
        "id": "QoB6SnXQhmhi"
      }
    },
    {
      "cell_type": "code",
      "execution_count": 3,
      "metadata": {
        "colab": {
          "base_uri": "https://localhost:8080/"
        },
        "id": "0QyPBDAIgnT2",
        "outputId": "ed2ffed3-08a8-4e2e-fb21-c858d536a696"
      },
      "outputs": [
        {
          "output_type": "stream",
          "name": "stdout",
          "text": [
            "Horizontal Vector\n",
            "[3 6 9]\n"
          ]
        }
      ],
      "source": [
        "import numpy as np\n",
        "horizontal_vector = np.array([3, 6, 9])\n",
        "print(\"Horizontal Vector\")\n",
        "print(horizontal_vector)"
      ]
    },
    {
      "cell_type": "code",
      "source": [
        "import numpy as np\n",
        "from numpy.linalg import lstsq\n",
        "\n",
        "def are_vectors_in_span(vectors_to_check, basis_vectors):\n",
        "    A = np.column_stack(basis_vectors)\n",
        "    return [np.allclose(A @ lstsq(A, vector, rcond=None)[0], vector)\n",
        "            for vector in vectors_to_check]\n",
        "\n",
        "basis_vectors = [np.array([1, 0, 0]), np.array([0, 1, 0])]\n",
        "vectors_to_check = [np.array([2, 3, 0]), np.array([1, 1, 1]), np.array([0, 0, 0])]\n",
        "\n",
        "results = are_vectors_in_span(vectors_to_check, basis_vectors)\n",
        "\n",
        "print(\"Basis Vectors: [1,0,0] & [0,1,0]\" )\n",
        "for vector, result in zip(vectors_to_check, results):\n",
        "    print(f\"Vector {vector} is in the span of the basis vectors (linear subspace): {result}\")\n"
      ],
      "metadata": {
        "colab": {
          "base_uri": "https://localhost:8080/"
        },
        "id": "pk2L7cjEnxK6",
        "outputId": "e53bdbbd-16fd-43dd-f656-e254f61da4b9"
      },
      "execution_count": 43,
      "outputs": [
        {
          "output_type": "stream",
          "name": "stdout",
          "text": [
            "Basis Vectors: [1,0,0] & [0,1,0]\n",
            "Vector [2 3 0] is in the span of the basis vectors (linear subspace): True\n",
            "Vector [1 1 1] is in the span of the basis vectors (linear subspace): False\n",
            "Vector [0 0 0] is in the span of the basis vectors (linear subspace): True\n"
          ]
        }
      ]
    },
    {
      "cell_type": "markdown",
      "source": [
        "# **1.2.2 Orthogonality**\n",
        "**Orthogonality** is the concept of vectors being perpendicular to each other. Two vectors are orthogonal if their dot product is zero."
      ],
      "metadata": {
        "id": "_QBBgEBspQqJ"
      }
    },
    {
      "cell_type": "code",
      "source": [
        "import numpy as np\n",
        "\n",
        "def are_orthogonal(v1, v2):\n",
        "    dot_product = np.dot(v1, v2)\n",
        "    return dot_product == 0\n",
        "\n",
        "v1 = np.array([1, 2])\n",
        "v2 = np.array([-2, 1])\n",
        "v3= np.array([6,9])\n",
        "\n",
        "result1 = are_orthogonal(v1, v2)\n",
        "result2 = are_orthogonal(v1, v3)\n",
        "print(\"[1,2] and [-2,1] are orthogonal:\", result1)\n",
        "print(\"[1,2] and [6,9] are orthogonal:\", result2)\n"
      ],
      "metadata": {
        "colab": {
          "base_uri": "https://localhost:8080/"
        },
        "id": "2ITHZXkKp9bl",
        "outputId": "54dcf693-34ca-4d58-b8bc-2aa1d7c8dfc4"
      },
      "execution_count": 45,
      "outputs": [
        {
          "output_type": "stream",
          "name": "stdout",
          "text": [
            "[1,2] and [-2,1] are orthogonal: True\n",
            "[1,2] and [6,9] are orthogonal: False\n"
          ]
        }
      ]
    },
    {
      "cell_type": "markdown",
      "source": [
        "A set of vectors is **orthonormal** if every vector in the set has magnitude 1 and the set of vectors are mutually orthogonal."
      ],
      "metadata": {
        "id": "EyxQ0Afyql0l"
      }
    },
    {
      "cell_type": "code",
      "source": [
        "import numpy as np\n",
        "from numpy.linalg import norm\n",
        "\n",
        "def compute_magnitude(vectors):\n",
        "    magnitudes = [norm(vector) for vector in vectors]\n",
        "    return magnitudes\n",
        "\n",
        "v1 = np.array([1, 2])\n",
        "v2 = np.array([-2,1])\n",
        "\n",
        "\n",
        "vectors = [v1, v2]\n",
        "magnitudes = compute_magnitude(vectors)\n",
        "\n",
        "print(\"Magnitudes of the vectors:\", magnitudes)"
      ],
      "metadata": {
        "colab": {
          "base_uri": "https://localhost:8080/"
        },
        "id": "-DeKKLUKrgK0",
        "outputId": "446062da-111a-44fe-d31d-e3d53ed82fae"
      },
      "execution_count": 49,
      "outputs": [
        {
          "output_type": "stream",
          "name": "stdout",
          "text": [
            "Magnitudes of the vectors: [2.23606797749979, 2.23606797749979]\n"
          ]
        }
      ]
    },
    {
      "cell_type": "markdown",
      "source": [
        "Therefore, in the above examples, we can assert that the vectors [1,2] and [-2,1] are orthogonal but not orthonormal because their magnitudes do not equal 1.\n",
        "\n",
        "# **1.2.3 Gram-Schmidt Process**\n",
        "\n",
        "The **Gram-Schmidt process** is a way of transforming a set of linearly independent vectors into a set of orthonormal vectors that span the same space as the original set."
      ],
      "metadata": {
        "id": "_1b1KATQsUZa"
      }
    },
    {
      "cell_type": "code",
      "source": [
        "import numpy as np\n",
        "from numpy.linalg import norm\n",
        "\n",
        "\n",
        "def gram_schmidt(vectors):\n",
        "   orthonormal_vectors = []\n",
        "   for v in vectors:\n",
        "        w = v - sum(np.dot(u, v) * u for u in orthonormal_vectors)\n",
        "        vector_norm = norm(w)\n",
        "        orthonormal_vectors.append(w / vector_norm)\n",
        "   return orthonormal_vectors\n",
        "\n",
        "\n",
        "v1 = np.array([1, 1])\n",
        "v2 = np.array([1, -1])\n",
        "vectors = [v1, v2]\n",
        "\n",
        "print(\"Original Vectors: [1,1] & [1,-1]\")\n",
        "orthonormal_vectors = gram_schmidt(vectors)\n",
        "print(\"Orthonormal vectors:\")\n",
        "for vec in orthonormal_vectors:\n",
        "    print(vec)\n",
        "\n",
        "def are_orthogonal(vectors):\n",
        "   num_vectors = len(vectors)\n",
        "   for i in range(num_vectors):\n",
        "        for j in range(i + 1, num_vectors):\n",
        "            dot_product = np.dot(vectors[i], vectors[j])\n",
        "            if dot_product == 0:\n",
        "              return True\n",
        "   return False\n",
        "\n",
        "result=are_orthogonal(orthonormal_vectors)\n",
        "print(\"The transformed vectors are orthogonal:\", result)\n",
        "\n",
        "def compute_magnitude(vectors):\n",
        "    magnitudes = [norm(vector) for vector in vectors]\n",
        "    return magnitudes\n",
        "\n",
        "magnitudes = compute_magnitude(orthonormal_vectors)\n",
        "round_mag=list(map(round, magnitudes))\n",
        "\n",
        "print(\"Magnitudes of the vectors:\", round_mag)\n"
      ],
      "metadata": {
        "colab": {
          "base_uri": "https://localhost:8080/"
        },
        "id": "6OBl06RguEwO",
        "outputId": "865b4874-4fd4-4511-9200-5212e1cf10ac"
      },
      "execution_count": 7,
      "outputs": [
        {
          "output_type": "stream",
          "name": "stdout",
          "text": [
            "Original Vectors: [1,1] & [1,-1]\n",
            "Orthonormal vectors:\n",
            "[0.70710678 0.70710678]\n",
            "[ 0.70710678 -0.70710678]\n",
            "The transformed vectors are orthogonal: True\n",
            "Magnitudes of the vectors: [1, 1]\n"
          ]
        }
      ]
    },
    {
      "cell_type": "markdown",
      "source": [
        "# **1.2.4 Eigenvalues and Eigenvectors**\n",
        "An **eigenvalue** of a matrix A is a scalar λ such that there is a non-zero vector v that satisfies the following equation: **Av=λv**\n",
        "\n",
        "The vector v is an eigenvector.\n",
        "\n",
        "To compute eigenvalues, we must solve the equation: **det(A−λI)=0**\n",
        "\n",
        "Here, *det* is the determinant and *I* is the identity matrix.  λ are the eigenvalues."
      ],
      "metadata": {
        "id": "n_zCTLtQx9Vp"
      }
    },
    {
      "cell_type": "code",
      "source": [
        "import numpy as np\n",
        "from numpy.linalg import eig\n",
        "\n",
        "def get_eigenvalues(matrix):\n",
        "    eigenvalues, eigenvectors = eig(matrix)\n",
        "    return eigenvalues\n",
        "\n",
        "matrix = np.array([[0,2],[2, 3]])\n",
        "eigenvalues = get_eigenvalues(matrix)\n",
        "\n",
        "print(\"Original Matrix:\")\n",
        "print(matrix)\n",
        "print(\"Computed Eigenvalues:\")\n",
        "print(eigenvalues)\n"
      ],
      "metadata": {
        "colab": {
          "base_uri": "https://localhost:8080/"
        },
        "id": "ZhyJ70ZwztBB",
        "outputId": "a5b4fff2-42ba-419b-c5be-c5ca4b1e2550"
      },
      "execution_count": 8,
      "outputs": [
        {
          "output_type": "stream",
          "name": "stdout",
          "text": [
            "Original Matrix:\n",
            "[[0 2]\n",
            " [2 3]]\n",
            "Computed Eigenvalues:\n",
            "[-1.  4.]\n"
          ]
        }
      ]
    },
    {
      "cell_type": "markdown",
      "source": [
        "To compute eigenvectors, solve the equation: **(A−λI)v=0**\n",
        "\n",
        "The eigenvector is designated by v."
      ],
      "metadata": {
        "id": "O0j2FFII0mEg"
      }
    },
    {
      "cell_type": "code",
      "source": [
        "import numpy as np\n",
        "from numpy.linalg import eig\n",
        "\n",
        "def get_eigenvectors(matrix):\n",
        "    eigenvalues, eigenvectors = eig(matrix)\n",
        "    return eigenvectors\n",
        "\n",
        "matrix = np.array([[0,2],[2, 3]])\n",
        "eigenvectors = get_eigenvectors(matrix)\n",
        "\n",
        "\n",
        "print(\"Original Matrix:\")\n",
        "print(matrix)\n",
        "print(\"Computed Eigenvectors:\")\n",
        "print(eigenvectors)\n"
      ],
      "metadata": {
        "colab": {
          "base_uri": "https://localhost:8080/"
        },
        "id": "KUBQ5uWIBQvd",
        "outputId": "ed41c652-97cd-4ed9-f5db-948b8bdcc824"
      },
      "execution_count": 53,
      "outputs": [
        {
          "output_type": "stream",
          "name": "stdout",
          "text": [
            "Original Matrix:\n",
            "[[0 2]\n",
            " [2 3]]\n",
            "Computed Eigenvectors:\n",
            "[[-0.89442719 -0.4472136 ]\n",
            " [ 0.4472136  -0.89442719]]\n"
          ]
        }
      ]
    },
    {
      "cell_type": "markdown",
      "source": [
        "**The Spectral Theorem for Symmetric Matrices** states that an *n x n* symmetric matrix A has the following properties:\n",
        "*   A has *n* real eigenvalues, counting multiplicites.\n",
        "*   If *λ* is an eigenvalues of A with multiplicity *k*, then the eigenspace for λ is *k*-dimensional.\n",
        "*   The eigenspaces are mututally orthogonal.\n",
        "*   A is orthogonally diagnalizable.\n",
        "\n",
        "We can represent A as ![Spectral Decomp.png](data:image/png;base64,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)\n",
        "\n",
        "\n",
        "This is referrred to as the **spectral decomposition** of A.\n"
      ],
      "metadata": {
        "id": "OMh7c_uoB3yK"
      }
    },
    {
      "cell_type": "markdown",
      "source": [],
      "metadata": {
        "id": "iWBAXTdPnjhn"
      }
    }
  ]
}